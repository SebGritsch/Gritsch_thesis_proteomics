{
 "cells": [
  {
   "cell_type": "code",
   "execution_count": null,
   "metadata": {},
   "outputs": [],
   "source": [
    "from Bio import SeqIO\n",
    "import os\n",
    "import pandas as pd"
   ]
  },
  {
   "cell_type": "markdown",
   "metadata": {},
   "source": [
    "## Uniprot header format\n",
    "\n",
    "UniProtKB\n",
    "\n",
    "    >db|UniqueIdentifier|EntryName ProteinName OS=OrganismName OX=OrganismIdentifier [GN=GeneName ]PE=ProteinExistence SV=SequenceVersion\n",
    "\n",
    "Where:\n",
    "\n",
    "- *db* is 'sp' for UniProtKB/Swiss-Prot and 'tr' for UniProtKB/TrEMBL.\n",
    "- *UniqueIdentifier* is the primary accession number of the UniProtKB entry.\n",
    "- *EntryName* is the entry name of the UniProtKB entry.\n",
    "- *ProteinName* is the recommended name of the UniProtKB entry as annotated in the RecName field. For UniProtKB/TrEMBL entries without a RecName field, the SubName field is used. In case of multiple SubNames, the first one is used. The 'precursor' attribute is excluded, 'Fragment' is included with the name if applicable.\n",
    "- *OrganismName* is the scientific name of the organism of the UniProtKB entry.\n",
    "- *OrganismIdentifier* is the unique identifier of the source organism, assigned by the NCBI.\n",
    "- *GeneName* is the first gene name of the UniProtKB entry. If there is no gene name, OrderedLocusName or ORFname, the GN field is not listed.\n",
    "- *ProteinExistence* is the numerical value describing the evidence for the existence of the protein.\n",
    "- *SequenceVersion* is the version number of the sequence.\n",
    "\n",
    "Examples\n",
    "\n",
    "    >sp|P02489|CRYAA_HUMAN Alpha-crystallin A chain OS=Homo sapiens OX=9606 GN=CRYAA PE=1 SV=2\n",
    "    >sp|P04224|HA22_MOUSE H-2 class II histocompatibility antigen, E-K alpha chain OS=Mus musculus OX=10090 PE=1 SV=1\n",
    "    >tr|Q8N2H2|Q8N2H2_HUMAN cDNA FLJ90785 fis, clone THYRO1001457, moderately similar to H.sapiens protein kinase C mu OS=Homo sapiens OX=9606 PE=2 SV=1\n",
    "\n"
   ]
  },
  {
   "cell_type": "markdown",
   "metadata": {},
   "source": [
    "# Saul 2023\n",
    "fasta file downloaded from [Saul et al (2023)](https://doi.org/10.5061/dryad.xsj3tx9mj)\n",
    "\n",
    "    >Nepenthes gracilis||scaffold1||1982839||1989396||Nepgr013152.mRNA1||1||CDS||3477145685||1||frame0\n",
    "    MGFIHWNYSAIVYNITMISFNMLETARINGVKRFFYAPSASIYPEFRQWKTTSRGRREKAPAAFCRKAIASTDRFEMWGDRKQTRSLTFIDECVEDAPISDLGKIGSSHVDDIFSCYLRHLAFSGPYKIISHSENRLFWWIAVRFPNTFLPENIEPVIQRVRLYELVNIGGDEMVGMNEVADIVLSFENKKLHIHNLSWAPMMKLKVTFELF\n",
    "\n",
    "Nepgr013152 is the identifier that has to bee matched with the metadata provided by the authors."
   ]
  },
  {
   "cell_type": "markdown",
   "metadata": {},
   "source": [
    "## Load data"
   ]
  },
  {
   "cell_type": "code",
   "execution_count": null,
   "metadata": {},
   "outputs": [],
   "source": [
    "# define directories\n",
    "# get the parent of the current directory\n",
    "PROJ_DIR = os.path.abspath(os.path.join(os.getcwd(), os.pardir))\n",
    "DATA_DIR = os.path.join(PROJ_DIR, \"data\", \"genomes\", \"nepenthes_SAUL2023\")\n",
    "DATA_DIR"
   ]
  },
  {
   "cell_type": "markdown",
   "metadata": {},
   "source": [
    "## Explore data"
   ]
  },
  {
   "cell_type": "code",
   "execution_count": null,
   "metadata": {},
   "outputs": [],
   "source": [
    "infile = os.path.join(DATA_DIR, \"61566-CDS-prot.fasta\")\n",
    "metadata_file = os.path.join(DATA_DIR, \"Nepenthes_gracilis.annotation.tsv\")\n",
    "\n",
    "# parse infile\n",
    "records = list(SeqIO.parse(infile, \"fasta\"))\n",
    "\n",
    "# get total number of reads\n",
    "total_reads = len(records)\n",
    "total_reads"
   ]
  },
  {
   "cell_type": "code",
   "execution_count": null,
   "metadata": {},
   "outputs": [],
   "source": [
    "# look at structure of records\n",
    "record = records[1]\n",
    "record"
   ]
  },
  {
   "cell_type": "code",
   "execution_count": null,
   "metadata": {},
   "outputs": [],
   "source": [
    "# extract information from the record description\n",
    "organism, scaffold, start, end, gene_id, strand, region, temp, temp1, frame = (\n",
    "    record.description.split(\"||\")\n",
    ")\n",
    "gene_id = gene_id.split(\".\")[0]\n",
    "print(organism)\n",
    "print(gene_id)"
   ]
  },
  {
   "cell_type": "markdown",
   "metadata": {},
   "source": [
    "## Explore metadata"
   ]
  },
  {
   "cell_type": "code",
   "execution_count": null,
   "metadata": {},
   "outputs": [],
   "source": [
    "pd.set_option(\"display.max_columns\", 8)\n",
    "metadata = pd.read_csv(metadata_file, sep=\"\\t\")\n",
    "metadata.head()"
   ]
  },
  {
   "cell_type": "markdown",
   "metadata": {},
   "source": [
    "relevant columns are\n",
    "gene_id, sprot_best, sprot_recname,  start, end.\\\n",
    "orthogroup, go_ids could be of interest later on.\n",
    "\n",
    "\n",
    "UniProtKB\n",
    "\n",
    "    >db|UniqueIdentifier|EntryName ProteinName OS=OrganismName OX=OrganismIdentifier [GN=GeneName ]PE=ProteinExistence SV=SequenceVersion\n",
    "\n",
    "new header:\n",
    "\n",
    "        >tr|gene_id|sprot_best sprot_recname OS=organism OX=150966 GN=gene_id PE=3 SV=1\n"
   ]
  },
  {
   "cell_type": "code",
   "execution_count": null,
   "metadata": {},
   "outputs": [],
   "source": [
    "# get the annotation information\n",
    "taxid = 150966\n",
    "gene_id = \"Nepgr000005\"\n",
    "# find information in metadata where \"gene_id\" contains the gene_id\n",
    "gene_info = metadata[metadata[\"gene_id\"].str.contains(gene_id)]\n",
    "entry_name = gene_info[\"sprot_best\"].values[0]\n",
    "protein_name = gene_info[\"sprot_recname\"].values[0]\n",
    "\n",
    "# Print the record with new header\n",
    "print(\n",
    "    f\">tr|{gene_id}|{entry_name} {protein_name} OS={organism} OX={taxid} GN={gene_id} PE=3 SV=1\"\n",
    ")\n",
    "print(f\"{record.seq}\\n\")"
   ]
  },
  {
   "cell_type": "markdown",
   "metadata": {},
   "source": [
    "## Test"
   ]
  },
  {
   "cell_type": "code",
   "execution_count": null,
   "metadata": {},
   "outputs": [],
   "source": [
    "for i, record in enumerate(SeqIO.parse(infile, \"fasta\")):\n",
    "    if i == 2:\n",
    "        break\n",
    "\n",
    "    # extract information from the record description\n",
    "    organism, scaffold, start, end, gene_id, strand, region, temp, temp1, frame = (\n",
    "        record.description.split(\"||\")\n",
    "    )\n",
    "    gene_id = gene_id.split(\".\")[0]\n",
    "\n",
    "    # find information in metadata where \"gene_id\" contains the gene_id\n",
    "    gene_info = metadata[metadata[\"gene_id\"].str.contains(gene_id)]\n",
    "    entry_name = gene_info[\"sprot_best\"].values[0]\n",
    "    protein_name = gene_info[\"sprot_recname\"].values[0]\n",
    "\n",
    "    # Print the record with new header\n",
    "    print(\n",
    "        f\">tr|{gene_id}|{entry_name} {protein_name} OS={organism} OX={taxid} GN={gene_id} PE=3 SV=1\"\n",
    "    )\n",
    "    print(f\"{record.seq}\\n\")"
   ]
  },
  {
   "cell_type": "markdown",
   "metadata": {},
   "source": [
    "## Annotate fasta file"
   ]
  },
  {
   "cell_type": "code",
   "execution_count": null,
   "metadata": {},
   "outputs": [],
   "source": [
    "outfile = os.path.join(DATA_DIR, \"61566-CDS-prot-annotated.fasta\")\n",
    "taxid = 150966\n",
    "\n",
    "with open(outfile, \"w\") as of:\n",
    "    for record in SeqIO.parse(infile, \"fasta\"):\n",
    "\n",
    "        # extract information from the record description\n",
    "        organism, scaffold, start, end, gene_id, strand, region, temp, temp1, frame = (\n",
    "            record.description.split(\"||\")\n",
    "        )\n",
    "        gene_id = gene_id.split(\".\")[0]\n",
    "\n",
    "        # find information in metadata where \"gene_id\" contains the gene_id\n",
    "        gene_info = metadata[metadata[\"gene_id\"].str.contains(gene_id)]\n",
    "        entry_name = gene_info[\"sprot_best\"].values[0]\n",
    "        protein_name = gene_info[\"sprot_recname\"].values[0]\n",
    "\n",
    "        # Print the record with new header\n",
    "        of.write(\n",
    "            f\">tr|{gene_id}|{entry_name} {protein_name} OS={organism} OX={taxid} GN={gene_id} PE=3 SV=1\\n\"\n",
    "        )\n",
    "        of.write(f\"{record.seq}\\n\")"
   ]
  }
 ],
 "metadata": {
  "kernelspec": {
   "display_name": "py3",
   "language": "python",
   "name": "python3"
  },
  "language_info": {
   "codemirror_mode": {
    "name": "ipython",
    "version": 3
   },
   "file_extension": ".py",
   "mimetype": "text/x-python",
   "name": "python",
   "nbconvert_exporter": "python",
   "pygments_lexer": "ipython3",
   "version": "3.12.4"
  }
 },
 "nbformat": 4,
 "nbformat_minor": 2
}
